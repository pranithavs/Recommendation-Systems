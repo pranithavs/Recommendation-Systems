{
  "nbformat": 4,
  "nbformat_minor": 0,
  "metadata": {
    "colab": {
      "provenance": []
    },
    "kernelspec": {
      "name": "python3",
      "display_name": "Python 3"
    },
    "language_info": {
      "name": "python"
    }
  },
  "cells": [
    {
      "cell_type": "markdown",
      "source": [
        "### Installing and Configuring PySpark"
      ],
      "metadata": {
        "id": "INfG7CEhWiBg"
      }
    },
    {
      "cell_type": "code",
      "execution_count": null,
      "metadata": {
        "id": "Be784UpZ6XkA",
        "colab": {
          "base_uri": "https://localhost:8080/"
        },
        "outputId": "eb674ac4-3dac-41a3-ad9a-ef232a2769d1"
      },
      "outputs": [
        {
          "output_type": "stream",
          "name": "stdout",
          "text": [
            "\u001b[2K     \u001b[90m━━━━━━━━━━━━━━━━━━━━━━━━━━━━━━━━━━━━━━━━\u001b[0m \u001b[32m316.9/316.9 MB\u001b[0m \u001b[31m2.2 MB/s\u001b[0m eta \u001b[36m0:00:00\u001b[0m\n",
            "\u001b[?25h  Preparing metadata (setup.py) ... \u001b[?25l\u001b[?25hdone\n",
            "  Building wheel for pyspark (setup.py) ... \u001b[?25l\u001b[?25hdone\n"
          ]
        }
      ],
      "source": [
        "!pip install -q pyspark"
      ]
    },
    {
      "cell_type": "code",
      "source": [
        "from pyspark.sql import SparkSession\n",
        "from pyspark.sql.functions import col, count, when, row_number, dense_rank,avg\n",
        "from pyspark.sql.window import Window\n",
        "from pyspark.ml.evaluation import RegressionEvaluator\n",
        "from pyspark.ml.recommendation import ALS\n",
        "from pyspark.sql.types import ArrayType\n",
        "\n",
        "\n",
        "\n",
        "# Create a SparkSession\n",
        "spark = SparkSession.builder.appName(\"Amazon Recommendation System on Electronics\").getOrCreate()"
      ],
      "metadata": {
        "id": "jl-mqRw16oZY"
      },
      "execution_count": null,
      "outputs": []
    },
    {
      "cell_type": "markdown",
      "source": [
        "### Uploading Files"
      ],
      "metadata": {
        "id": "m9Ocx9S4WrPY"
      }
    },
    {
      "cell_type": "code",
      "source": [
        "from google.colab import files\n",
        "files.upload()"
      ],
      "metadata": {
        "colab": {
          "base_uri": "https://localhost:8080/",
          "height": 73
        },
        "id": "jEuObYT-Z2Of",
        "outputId": "e7147d25-7f6d-41ba-9662-8c0d024cb290"
      },
      "execution_count": null,
      "outputs": [
        {
          "output_type": "display_data",
          "data": {
            "text/plain": [
              "<IPython.core.display.HTML object>"
            ],
            "text/html": [
              "\n",
              "     <input type=\"file\" id=\"files-29b611ba-c2c8-4193-8e8f-5aec0a91eb07\" name=\"files[]\" multiple disabled\n",
              "        style=\"border:none\" />\n",
              "     <output id=\"result-29b611ba-c2c8-4193-8e8f-5aec0a91eb07\">\n",
              "      Upload widget is only available when the cell has been executed in the\n",
              "      current browser session. Please rerun this cell to enable.\n",
              "      </output>\n",
              "      <script>// Copyright 2017 Google LLC\n",
              "//\n",
              "// Licensed under the Apache License, Version 2.0 (the \"License\");\n",
              "// you may not use this file except in compliance with the License.\n",
              "// You may obtain a copy of the License at\n",
              "//\n",
              "//      http://www.apache.org/licenses/LICENSE-2.0\n",
              "//\n",
              "// Unless required by applicable law or agreed to in writing, software\n",
              "// distributed under the License is distributed on an \"AS IS\" BASIS,\n",
              "// WITHOUT WARRANTIES OR CONDITIONS OF ANY KIND, either express or implied.\n",
              "// See the License for the specific language governing permissions and\n",
              "// limitations under the License.\n",
              "\n",
              "/**\n",
              " * @fileoverview Helpers for google.colab Python module.\n",
              " */\n",
              "(function(scope) {\n",
              "function span(text, styleAttributes = {}) {\n",
              "  const element = document.createElement('span');\n",
              "  element.textContent = text;\n",
              "  for (const key of Object.keys(styleAttributes)) {\n",
              "    element.style[key] = styleAttributes[key];\n",
              "  }\n",
              "  return element;\n",
              "}\n",
              "\n",
              "// Max number of bytes which will be uploaded at a time.\n",
              "const MAX_PAYLOAD_SIZE = 100 * 1024;\n",
              "\n",
              "function _uploadFiles(inputId, outputId) {\n",
              "  const steps = uploadFilesStep(inputId, outputId);\n",
              "  const outputElement = document.getElementById(outputId);\n",
              "  // Cache steps on the outputElement to make it available for the next call\n",
              "  // to uploadFilesContinue from Python.\n",
              "  outputElement.steps = steps;\n",
              "\n",
              "  return _uploadFilesContinue(outputId);\n",
              "}\n",
              "\n",
              "// This is roughly an async generator (not supported in the browser yet),\n",
              "// where there are multiple asynchronous steps and the Python side is going\n",
              "// to poll for completion of each step.\n",
              "// This uses a Promise to block the python side on completion of each step,\n",
              "// then passes the result of the previous step as the input to the next step.\n",
              "function _uploadFilesContinue(outputId) {\n",
              "  const outputElement = document.getElementById(outputId);\n",
              "  const steps = outputElement.steps;\n",
              "\n",
              "  const next = steps.next(outputElement.lastPromiseValue);\n",
              "  return Promise.resolve(next.value.promise).then((value) => {\n",
              "    // Cache the last promise value to make it available to the next\n",
              "    // step of the generator.\n",
              "    outputElement.lastPromiseValue = value;\n",
              "    return next.value.response;\n",
              "  });\n",
              "}\n",
              "\n",
              "/**\n",
              " * Generator function which is called between each async step of the upload\n",
              " * process.\n",
              " * @param {string} inputId Element ID of the input file picker element.\n",
              " * @param {string} outputId Element ID of the output display.\n",
              " * @return {!Iterable<!Object>} Iterable of next steps.\n",
              " */\n",
              "function* uploadFilesStep(inputId, outputId) {\n",
              "  const inputElement = document.getElementById(inputId);\n",
              "  inputElement.disabled = false;\n",
              "\n",
              "  const outputElement = document.getElementById(outputId);\n",
              "  outputElement.innerHTML = '';\n",
              "\n",
              "  const pickedPromise = new Promise((resolve) => {\n",
              "    inputElement.addEventListener('change', (e) => {\n",
              "      resolve(e.target.files);\n",
              "    });\n",
              "  });\n",
              "\n",
              "  const cancel = document.createElement('button');\n",
              "  inputElement.parentElement.appendChild(cancel);\n",
              "  cancel.textContent = 'Cancel upload';\n",
              "  const cancelPromise = new Promise((resolve) => {\n",
              "    cancel.onclick = () => {\n",
              "      resolve(null);\n",
              "    };\n",
              "  });\n",
              "\n",
              "  // Wait for the user to pick the files.\n",
              "  const files = yield {\n",
              "    promise: Promise.race([pickedPromise, cancelPromise]),\n",
              "    response: {\n",
              "      action: 'starting',\n",
              "    }\n",
              "  };\n",
              "\n",
              "  cancel.remove();\n",
              "\n",
              "  // Disable the input element since further picks are not allowed.\n",
              "  inputElement.disabled = true;\n",
              "\n",
              "  if (!files) {\n",
              "    return {\n",
              "      response: {\n",
              "        action: 'complete',\n",
              "      }\n",
              "    };\n",
              "  }\n",
              "\n",
              "  for (const file of files) {\n",
              "    const li = document.createElement('li');\n",
              "    li.append(span(file.name, {fontWeight: 'bold'}));\n",
              "    li.append(span(\n",
              "        `(${file.type || 'n/a'}) - ${file.size} bytes, ` +\n",
              "        `last modified: ${\n",
              "            file.lastModifiedDate ? file.lastModifiedDate.toLocaleDateString() :\n",
              "                                    'n/a'} - `));\n",
              "    const percent = span('0% done');\n",
              "    li.appendChild(percent);\n",
              "\n",
              "    outputElement.appendChild(li);\n",
              "\n",
              "    const fileDataPromise = new Promise((resolve) => {\n",
              "      const reader = new FileReader();\n",
              "      reader.onload = (e) => {\n",
              "        resolve(e.target.result);\n",
              "      };\n",
              "      reader.readAsArrayBuffer(file);\n",
              "    });\n",
              "    // Wait for the data to be ready.\n",
              "    let fileData = yield {\n",
              "      promise: fileDataPromise,\n",
              "      response: {\n",
              "        action: 'continue',\n",
              "      }\n",
              "    };\n",
              "\n",
              "    // Use a chunked sending to avoid message size limits. See b/62115660.\n",
              "    let position = 0;\n",
              "    do {\n",
              "      const length = Math.min(fileData.byteLength - position, MAX_PAYLOAD_SIZE);\n",
              "      const chunk = new Uint8Array(fileData, position, length);\n",
              "      position += length;\n",
              "\n",
              "      const base64 = btoa(String.fromCharCode.apply(null, chunk));\n",
              "      yield {\n",
              "        response: {\n",
              "          action: 'append',\n",
              "          file: file.name,\n",
              "          data: base64,\n",
              "        },\n",
              "      };\n",
              "\n",
              "      let percentDone = fileData.byteLength === 0 ?\n",
              "          100 :\n",
              "          Math.round((position / fileData.byteLength) * 100);\n",
              "      percent.textContent = `${percentDone}% done`;\n",
              "\n",
              "    } while (position < fileData.byteLength);\n",
              "  }\n",
              "\n",
              "  // All done.\n",
              "  yield {\n",
              "    response: {\n",
              "      action: 'complete',\n",
              "    }\n",
              "  };\n",
              "}\n",
              "\n",
              "scope.google = scope.google || {};\n",
              "scope.google.colab = scope.google.colab || {};\n",
              "scope.google.colab._files = {\n",
              "  _uploadFiles,\n",
              "  _uploadFilesContinue,\n",
              "};\n",
              "})(self);\n",
              "</script> "
            ]
          },
          "metadata": {}
        },
        {
          "output_type": "stream",
          "name": "stdout",
          "text": [
            "Saving Amazon_Electronics_Ratings.csv to Amazon_Electronics_Ratings.csv\n"
          ]
        }
      ]
    },
    {
      "cell_type": "markdown",
      "source": [
        "#### Read the CSV files into DataFrames using spark"
      ],
      "metadata": {
        "id": "JyJKFy6sZ8wr"
      }
    },
    {
      "cell_type": "code",
      "source": [
        "amazon_df = spark.read.format(\"csv\").option(\"header\", \"false\").load(\"/content/Amazon_Electronics_Ratings.csv\")"
      ],
      "metadata": {
        "id": "wiRvUVnfZ7am"
      },
      "execution_count": 67,
      "outputs": []
    },
    {
      "cell_type": "code",
      "source": [
        "amazon_df.show(10)"
      ],
      "metadata": {
        "colab": {
          "base_uri": "https://localhost:8080/"
        },
        "id": "9Xsmql2M8vVK",
        "outputId": "41db7851-9852-49ab-9701-8dc286236a9b"
      },
      "execution_count": 68,
      "outputs": [
        {
          "output_type": "stream",
          "name": "stdout",
          "text": [
            "+--------------+----------+---+----------+\n",
            "|           _c0|       _c1|_c2|       _c3|\n",
            "+--------------+----------+---+----------+\n",
            "| AKM1MP6P0OYPR|0132793040|5.0|1365811200|\n",
            "|A2CX7LUOHB2NDG|0321732944|5.0|1341100800|\n",
            "|A2NWSAGRHCP8N5|0439886341|1.0|1367193600|\n",
            "|A2WNBOD3WNDNKT|0439886341|3.0|1374451200|\n",
            "|A1GI0U4ZRJA8WN|0439886341|1.0|1334707200|\n",
            "|A1QGNMC6O1VW39|0511189877|5.0|1397433600|\n",
            "|A3J3BRHTDRFJ2G|0511189877|2.0|1397433600|\n",
            "|A2TY0BTJOTENPG|0511189877|5.0|1395878400|\n",
            "|A34ATBPOK6HCHY|0511189877|5.0|1395532800|\n",
            "| A89DO69P0XZ27|0511189877|5.0|1395446400|\n",
            "+--------------+----------+---+----------+\n",
            "only showing top 10 rows\n",
            "\n"
          ]
        }
      ]
    },
    {
      "cell_type": "markdown",
      "source": [
        "### Data Pre-Processing"
      ],
      "metadata": {
        "id": "8a9AP9E7Wtwe"
      }
    },
    {
      "cell_type": "code",
      "source": [
        "new_Columns = {\n",
        "    '_c0': 'User_ID',\n",
        "    '_c1': 'Product_ID',\n",
        "    '_c2': 'Rating',\n",
        "    '_c3': 'Timestamp'\n",
        "}\n",
        "amazon_df = amazon_df.withColumnsRenamed(new_Columns)"
      ],
      "metadata": {
        "id": "9QFVB3mz8VPr"
      },
      "execution_count": null,
      "outputs": []
    },
    {
      "cell_type": "code",
      "source": [
        "amazon_df.show(10)"
      ],
      "metadata": {
        "colab": {
          "base_uri": "https://localhost:8080/"
        },
        "id": "Q77V0x0N9Mk9",
        "outputId": "97f55815-fbe7-4b99-eadf-9748d4a1fcad"
      },
      "execution_count": null,
      "outputs": [
        {
          "output_type": "stream",
          "name": "stdout",
          "text": [
            "+--------------+----------+------+----------+\n",
            "|       User_ID|Product_ID|Rating| Timestamp|\n",
            "+--------------+----------+------+----------+\n",
            "| AKM1MP6P0OYPR|0132793040|   5.0|1365811200|\n",
            "|A2CX7LUOHB2NDG|0321732944|   5.0|1341100800|\n",
            "|A2NWSAGRHCP8N5|0439886341|   1.0|1367193600|\n",
            "|A2WNBOD3WNDNKT|0439886341|   3.0|1374451200|\n",
            "|A1GI0U4ZRJA8WN|0439886341|   1.0|1334707200|\n",
            "|A1QGNMC6O1VW39|0511189877|   5.0|1397433600|\n",
            "|A3J3BRHTDRFJ2G|0511189877|   2.0|1397433600|\n",
            "|A2TY0BTJOTENPG|0511189877|   5.0|1395878400|\n",
            "|A34ATBPOK6HCHY|0511189877|   5.0|1395532800|\n",
            "| A89DO69P0XZ27|0511189877|   5.0|1395446400|\n",
            "+--------------+----------+------+----------+\n",
            "only showing top 10 rows\n",
            "\n"
          ]
        }
      ]
    },
    {
      "cell_type": "markdown",
      "source": [
        "Checking for NULL values"
      ],
      "metadata": {
        "id": "3XkRKhn7YX0d"
      }
    },
    {
      "cell_type": "code",
      "source": [
        "# Checking null values in each column\n",
        "null_values = amazon_df.select([count(when(col(c).isNull(), c)).alias(c) for c in amazon_df.columns])\n",
        "\n",
        "# Showing null values\n",
        "null_values.show()"
      ],
      "metadata": {
        "colab": {
          "base_uri": "https://localhost:8080/"
        },
        "id": "XBhsKjXL-6th",
        "outputId": "d757c695-e39d-4226-d31f-98841f6e7e0d"
      },
      "execution_count": null,
      "outputs": [
        {
          "output_type": "stream",
          "name": "stdout",
          "text": [
            "+-------+----------+------+---------+\n",
            "|User_ID|Product_ID|Rating|Timestamp|\n",
            "+-------+----------+------+---------+\n",
            "|      0|         0|     0|        0|\n",
            "+-------+----------+------+---------+\n",
            "\n"
          ]
        }
      ]
    },
    {
      "cell_type": "markdown",
      "source": [
        "Neither of the columns have null values, so we will not perform any imputations over here."
      ],
      "metadata": {
        "id": "HutUeo3mVzJa"
      }
    },
    {
      "cell_type": "code",
      "source": [
        "# Changing the type of 'Rating column to integer'\n",
        "column_name = ['Rating']\n",
        "\n",
        "for N in column_name:\n",
        "    amazon_df = amazon_df.withColumn(N, col(N).cast('integer'))\n"
      ],
      "metadata": {
        "id": "hs9jQYWodqAj"
      },
      "execution_count": null,
      "outputs": []
    },
    {
      "cell_type": "markdown",
      "source": [
        "For Modelling, we would need all the columns in our data to be numeric.After checking the Product_ID we understood that it had a lot of non-numeric charaters, so we created a new column \"New_Product_ID\" where all the values are numeric."
      ],
      "metadata": {
        "id": "sKe4sT4PYmke"
      }
    },
    {
      "cell_type": "code",
      "source": [
        "windowSpec = Window.orderBy(\"Product_ID\")\n",
        "amazon_df = amazon_df.withColumn(\"New_Product_ID\", dense_rank().over(windowSpec))\n",
        "# Showing the DataFrame after the conversion\n",
        "amazon_df.show(10)"
      ],
      "metadata": {
        "colab": {
          "base_uri": "https://localhost:8080/"
        },
        "id": "nMzOqAGP6AQr",
        "outputId": "e6c06921-53e2-468a-8f38-570d1539962d"
      },
      "execution_count": null,
      "outputs": [
        {
          "output_type": "stream",
          "name": "stdout",
          "text": [
            "+--------------+----------+------+----------+--------------+\n",
            "|       User_ID|Product_ID|Rating| Timestamp|New_Product_ID|\n",
            "+--------------+----------+------+----------+--------------+\n",
            "| AKM1MP6P0OYPR|0132793040|     5|1365811200|             1|\n",
            "|A2CX7LUOHB2NDG|0321732944|     5|1341100800|             2|\n",
            "|A2NWSAGRHCP8N5|0439886341|     1|1367193600|             3|\n",
            "|A2WNBOD3WNDNKT|0439886341|     3|1374451200|             3|\n",
            "|A1GI0U4ZRJA8WN|0439886341|     1|1334707200|             3|\n",
            "|A1QGNMC6O1VW39|0511189877|     5|1397433600|             4|\n",
            "|A3J3BRHTDRFJ2G|0511189877|     2|1397433600|             4|\n",
            "|A2TY0BTJOTENPG|0511189877|     5|1395878400|             4|\n",
            "|A34ATBPOK6HCHY|0511189877|     5|1395532800|             4|\n",
            "| A89DO69P0XZ27|0511189877|     5|1395446400|             4|\n",
            "+--------------+----------+------+----------+--------------+\n",
            "only showing top 10 rows\n",
            "\n"
          ]
        }
      ]
    },
    {
      "cell_type": "markdown",
      "source": [
        "Similarly, After checking the user_ID we understood that it had a lot of non-numeric charaters, so we created a new column \"New_User_ID\" where all the values are numeric.\n",
        "\n"
      ],
      "metadata": {
        "id": "af1FTEZhZeLI"
      }
    },
    {
      "cell_type": "code",
      "source": [
        "windowSpec = Window.orderBy(\"user_ID\")\n",
        "amazon_df = amazon_df.withColumn(\"New_User_ID\", dense_rank().over(windowSpec))\n",
        "\n",
        "# Showing the DataFrame after the conversion\n",
        "amazon_df.show(10)"
      ],
      "metadata": {
        "colab": {
          "base_uri": "https://localhost:8080/"
        },
        "id": "ZpAGXTtqBqUO",
        "outputId": "2a37fc52-8e3c-4275-d914-69ae607b8c2d"
      },
      "execution_count": null,
      "outputs": [
        {
          "output_type": "stream",
          "name": "stdout",
          "text": [
            "+--------------------+----------+------+----------+--------------+-----------+\n",
            "|             User_ID|Product_ID|Rating| Timestamp|New_Product_ID|New_User_ID|\n",
            "+--------------------+----------+------+----------+--------------+-----------+\n",
            "|A00000262KYZUE4J5...|B003UYU16G|     5|1353456000|        195535|          1|\n",
            "|A000063614T1OE0BU...|B00419ZT3E|     5|1365120000|        203899|          2|\n",
            "|A000063614T1OE0BU...|B00432ZSHG|     5|1365120000|        206616|          2|\n",
            "|A00009182QVLSWIGH...|B009SXR7WE|     5|1364947200|        372948|          3|\n",
            "|A00009661LC9LQPGK...|B004GWQBWY|     5|1351209600|        226215|          4|\n",
            "|A00010809P09NUU6ZP6H|B002SSM5AU|     5|1365379200|        154933|          5|\n",
            "|A00014061C2IZNE0Y...|B00EKSG8JU|     4|1390348800|        438092|          6|\n",
            "|A000145014WOTZJ5N...|B00F3L19KQ|     5|1405382400|        442988|          7|\n",
            "|A00015222LZ55IJSV...|B001MSVPM6|     1|1361491200|        121040|          8|\n",
            "|A00015228CUPGPF957DS|B00474ORI6|     1|1402617600|        212397|          9|\n",
            "+--------------------+----------+------+----------+--------------+-----------+\n",
            "only showing top 10 rows\n",
            "\n"
          ]
        }
      ]
    },
    {
      "cell_type": "markdown",
      "source": [
        "### EDA of the Dataset"
      ],
      "metadata": {
        "id": "dzVQSPEyaHt7"
      }
    },
    {
      "cell_type": "markdown",
      "source": [
        "Checking the types of the new columns"
      ],
      "metadata": {
        "id": "bY-6V_k7Z7qw"
      }
    },
    {
      "cell_type": "code",
      "source": [
        "amazon_df.printSchema()"
      ],
      "metadata": {
        "colab": {
          "base_uri": "https://localhost:8080/"
        },
        "id": "onyq5zTlc4EI",
        "outputId": "f5d43c9d-d00f-48fb-8547-3b77608050fd"
      },
      "execution_count": null,
      "outputs": [
        {
          "output_type": "stream",
          "name": "stdout",
          "text": [
            "root\n",
            " |-- User_ID: string (nullable = true)\n",
            " |-- Product_ID: string (nullable = true)\n",
            " |-- Rating: integer (nullable = true)\n",
            " |-- Timestamp: string (nullable = true)\n",
            " |-- New_Product_ID: integer (nullable = false)\n",
            " |-- New_User_ID: integer (nullable = false)\n",
            "\n"
          ]
        }
      ]
    },
    {
      "cell_type": "markdown",
      "source": [
        "Getting a summary of the data"
      ],
      "metadata": {
        "id": "agMNZvjFYetk"
      }
    },
    {
      "cell_type": "code",
      "source": [
        "# Displaying the statistics\n",
        "amazon_df.select(column_name).describe().show()"
      ],
      "metadata": {
        "colab": {
          "base_uri": "https://localhost:8080/"
        },
        "id": "1L-H3IqOWhrq",
        "outputId": "c7c83bd3-27b8-4def-b8a6-9ffad5155b65"
      },
      "execution_count": null,
      "outputs": [
        {
          "output_type": "stream",
          "name": "stdout",
          "text": [
            "+-------+------------------+\n",
            "|summary|            Rating|\n",
            "+-------+------------------+\n",
            "|  count|           7824482|\n",
            "|   mean| 4.012336791112817|\n",
            "| stddev|1.3809098185804336|\n",
            "|    min|                 1|\n",
            "|    max|                 5|\n",
            "+-------+------------------+\n",
            "\n"
          ]
        }
      ]
    },
    {
      "cell_type": "markdown",
      "source": [
        "Total Number of Users giving ratings\n"
      ],
      "metadata": {
        "id": "IqBYyN3ihzTm"
      }
    },
    {
      "cell_type": "code",
      "source": [
        "len(amazon_df.select('User_ID').distinct().collect())"
      ],
      "metadata": {
        "colab": {
          "base_uri": "https://localhost:8080/"
        },
        "id": "lAm4hNShghjD",
        "outputId": "0bec84cb-a8ea-4108-e568-c42da68eaccf"
      },
      "execution_count": null,
      "outputs": [
        {
          "output_type": "execute_result",
          "data": {
            "text/plain": [
              "4201696"
            ]
          },
          "metadata": {},
          "execution_count": 14
        }
      ]
    },
    {
      "cell_type": "markdown",
      "source": [
        "Total Number of Products in the data."
      ],
      "metadata": {
        "id": "_JNnhRrXh79A"
      }
    },
    {
      "cell_type": "code",
      "source": [
        "len(amazon_df.select('Product_ID').distinct().collect())"
      ],
      "metadata": {
        "colab": {
          "base_uri": "https://localhost:8080/"
        },
        "id": "0rjQ0_lMh4NC",
        "outputId": "56890870-e530-437a-cb9c-2e3ad6cf20e0"
      },
      "execution_count": null,
      "outputs": [
        {
          "output_type": "execute_result",
          "data": {
            "text/plain": [
              "476002"
            ]
          },
          "metadata": {},
          "execution_count": 15
        }
      ]
    },
    {
      "cell_type": "markdown",
      "source": [
        "Re-checking for NULL values"
      ],
      "metadata": {
        "id": "6aaHjPezaCNC"
      }
    },
    {
      "cell_type": "code",
      "source": [
        "# Checking null values in each column\n",
        "null_values = amazon_df.select([count(when(col(c).isNull(), c)).alias(c) for c in amazon_df.columns])\n",
        "\n",
        "# Showing nul values\n",
        "null_values.show()"
      ],
      "metadata": {
        "colab": {
          "base_uri": "https://localhost:8080/"
        },
        "id": "BjZz0Dis6ni-",
        "outputId": "75ca0699-186b-4472-f87d-99d6cc58a9b5"
      },
      "execution_count": null,
      "outputs": [
        {
          "output_type": "stream",
          "name": "stdout",
          "text": [
            "+-------+----------+------+---------+--------------+-----------+\n",
            "|User_ID|Product_ID|Rating|Timestamp|New_Product_ID|New_User_ID|\n",
            "+-------+----------+------+---------+--------------+-----------+\n",
            "|      0|         0|     0|        0|             0|          0|\n",
            "+-------+----------+------+---------+--------------+-----------+\n",
            "\n"
          ]
        }
      ]
    },
    {
      "cell_type": "code",
      "source": [
        "rating_stats = amazon_df.groupBy('Rating').agg(count('Rating').alias('Total Ratings'))"
      ],
      "metadata": {
        "id": "oXxALcicVSYe"
      },
      "execution_count": 65,
      "outputs": []
    },
    {
      "cell_type": "code",
      "source": [
        "rating_stats.show()"
      ],
      "metadata": {
        "colab": {
          "base_uri": "https://localhost:8080/"
        },
        "id": "mxg0UH-yVhIJ",
        "outputId": "75f94069-1f88-4a4e-e7d7-19d11f355416"
      },
      "execution_count": 66,
      "outputs": [
        {
          "output_type": "stream",
          "name": "stdout",
          "text": [
            "+------+-------------+\n",
            "|Rating|Total Ratings|\n",
            "+------+-------------+\n",
            "|     1|       901765|\n",
            "|     3|       633073|\n",
            "|     5|      4347541|\n",
            "|     4|      1485781|\n",
            "|     2|       456322|\n",
            "+------+-------------+\n",
            "\n"
          ]
        }
      ]
    },
    {
      "cell_type": "markdown",
      "source": [
        "### Pre-Processing Post EDA"
      ],
      "metadata": {
        "id": "_U6OVfB7XNlO"
      }
    },
    {
      "cell_type": "markdown",
      "source": [
        "Dropping the Timestamp column, as it does not have much relevance in our recommendation system."
      ],
      "metadata": {
        "id": "elyTxAjTaM-A"
      }
    },
    {
      "cell_type": "code",
      "source": [
        "amazon_df = amazon_df.drop(\"Timestamp\")"
      ],
      "metadata": {
        "id": "W7F4w-0zIlAl"
      },
      "execution_count": null,
      "outputs": []
    },
    {
      "cell_type": "code",
      "source": [
        "amazon_df.show(10)"
      ],
      "metadata": {
        "colab": {
          "base_uri": "https://localhost:8080/"
        },
        "id": "9yZwdnUoPqG1",
        "outputId": "671295da-2e0b-4fd5-8174-b969f5fb4358"
      },
      "execution_count": null,
      "outputs": [
        {
          "output_type": "stream",
          "name": "stdout",
          "text": [
            "+--------------------+----------+------+--------------+-----------+\n",
            "|             User_ID|Product_ID|Rating|New_Product_ID|New_User_ID|\n",
            "+--------------------+----------+------+--------------+-----------+\n",
            "|A00000262KYZUE4J5...|B003UYU16G|     5|        195535|          1|\n",
            "|A000063614T1OE0BU...|B00419ZT3E|     5|        203899|          2|\n",
            "|A000063614T1OE0BU...|B00432ZSHG|     5|        206616|          2|\n",
            "|A00009182QVLSWIGH...|B009SXR7WE|     5|        372948|          3|\n",
            "|A00009661LC9LQPGK...|B004GWQBWY|     5|        226215|          4|\n",
            "|A00010809P09NUU6ZP6H|B002SSM5AU|     5|        154933|          5|\n",
            "|A00014061C2IZNE0Y...|B00EKSG8JU|     4|        438092|          6|\n",
            "|A000145014WOTZJ5N...|B00F3L19KQ|     5|        442988|          7|\n",
            "|A00015222LZ55IJSV...|B001MSVPM6|     1|        121040|          8|\n",
            "|A00015228CUPGPF957DS|B00474ORI6|     1|        212397|          9|\n",
            "+--------------------+----------+------+--------------+-----------+\n",
            "only showing top 10 rows\n",
            "\n"
          ]
        }
      ]
    },
    {
      "cell_type": "markdown",
      "source": [
        "### Recommendation Models"
      ],
      "metadata": {
        "id": "VIcyx0LwXRCL"
      }
    },
    {
      "cell_type": "markdown",
      "source": [
        "### **Using Popularity Based Method**"
      ],
      "metadata": {
        "id": "w3_UfWBf5vZc"
      }
    },
    {
      "cell_type": "code",
      "source": [
        "# Split the data into training and testing sets\n",
        "train_df_split, test_df_split = amazon_df.randomSplit([0.7, 0.3], seed=97)"
      ],
      "metadata": {
        "id": "kNTteSTg50O7"
      },
      "execution_count": null,
      "outputs": []
    },
    {
      "cell_type": "markdown",
      "source": [
        "#### Calculate the global mean rating\n",
        "##### This gives us the mean rating of all the products that have been rated by the users"
      ],
      "metadata": {
        "id": "FHnNhVyetOxl"
      }
    },
    {
      "cell_type": "code",
      "source": [
        "global_mean_rating = train_df_split.select(avg('Rating')).first()[0]\n",
        "global_mean_rating"
      ],
      "metadata": {
        "id": "wXHeT0QkdBXu",
        "colab": {
          "base_uri": "https://localhost:8080/"
        },
        "outputId": "791cdbae-7d95-46b2-abd7-32b4c01c29fc"
      },
      "execution_count": null,
      "outputs": [
        {
          "output_type": "execute_result",
          "data": {
            "text/plain": [
              "4.012564681493862"
            ]
          },
          "metadata": {},
          "execution_count": 23
        }
      ]
    },
    {
      "cell_type": "markdown",
      "source": [
        "#### Calculate the mean rating for each user and product respectively in the training set\n"
      ],
      "metadata": {
        "id": "8dGypLantvD-"
      }
    },
    {
      "cell_type": "code",
      "source": [
        "user_column = Window().partitionBy('New_User_ID')\n",
        "mean_rating_per_user = train_df_split.withColumn('mean_rating_user', avg('Rating').over(user_column)).select('New_User_ID', 'mean_rating_user')"
      ],
      "metadata": {
        "id": "rpOgGrpPdYVp"
      },
      "execution_count": null,
      "outputs": []
    },
    {
      "cell_type": "code",
      "source": [
        "product_column = Window().partitionBy('New_Product_ID')\n",
        "mean_rating_per_product = train_df_split.withColumn('mean_rating_product', avg('Rating').over(product_column)).select('New_Product_ID', 'mean_rating_product')"
      ],
      "metadata": {
        "id": "kmQS_JOXw9l3"
      },
      "execution_count": null,
      "outputs": []
    },
    {
      "cell_type": "markdown",
      "source": [
        "#### Mean Rating for every User"
      ],
      "metadata": {
        "id": "TvExMY95BbGJ"
      }
    },
    {
      "cell_type": "code",
      "source": [
        "mean_rating_per_user.show(10)"
      ],
      "metadata": {
        "colab": {
          "base_uri": "https://localhost:8080/"
        },
        "id": "LNg6eXtnBY7s",
        "outputId": "a88ff93b-e6f5-454c-d618-e5c548a233c9"
      },
      "execution_count": null,
      "outputs": [
        {
          "output_type": "stream",
          "name": "stdout",
          "text": [
            "+-----------+----------------+\n",
            "|New_User_ID|mean_rating_user|\n",
            "+-----------+----------------+\n",
            "|          1|             5.0|\n",
            "|          2|             5.0|\n",
            "|          2|             5.0|\n",
            "|          3|             5.0|\n",
            "|          5|             5.0|\n",
            "|          6|             4.0|\n",
            "|          7|             5.0|\n",
            "|          8|             1.0|\n",
            "|         10|             4.5|\n",
            "|         10|             4.5|\n",
            "+-----------+----------------+\n",
            "only showing top 10 rows\n",
            "\n"
          ]
        }
      ]
    },
    {
      "cell_type": "markdown",
      "source": [
        "#### Mean Rating for every Product"
      ],
      "metadata": {
        "id": "gt7u1FftBhkW"
      }
    },
    {
      "cell_type": "code",
      "source": [
        "mean_rating_per_product.show(10)"
      ],
      "metadata": {
        "colab": {
          "base_uri": "https://localhost:8080/"
        },
        "id": "gEqC_pq5Be-y",
        "outputId": "154b154e-9b80-40a8-f664-d933ea1fa780"
      },
      "execution_count": null,
      "outputs": [
        {
          "output_type": "stream",
          "name": "stdout",
          "text": [
            "+--------------+-------------------+\n",
            "|New_Product_ID|mean_rating_product|\n",
            "+--------------+-------------------+\n",
            "|             1|                5.0|\n",
            "|             2|                5.0|\n",
            "|             3|                1.0|\n",
            "|             4|                5.0|\n",
            "|             4|                5.0|\n",
            "|             4|                5.0|\n",
            "|             5|  2.869565217391304|\n",
            "|             5|  2.869565217391304|\n",
            "|             5|  2.869565217391304|\n",
            "|             5|  2.869565217391304|\n",
            "+--------------+-------------------+\n",
            "only showing top 10 rows\n",
            "\n"
          ]
        }
      ]
    },
    {
      "cell_type": "markdown",
      "source": [
        "#### Compute the standard deviations from the global average for each user and product"
      ],
      "metadata": {
        "id": "n-ni-pXkuGT_"
      }
    },
    {
      "cell_type": "code",
      "source": [
        "user_deviations = mean_rating_per_user.rdd.map(lambda row: (row['New_User_ID'], row['mean_rating_user'] - global_mean_rating)).collectAsMap()"
      ],
      "metadata": {
        "id": "46t1Y_ikdpwy"
      },
      "execution_count": 42,
      "outputs": []
    },
    {
      "cell_type": "code",
      "source": [
        "product_deviations = mean_rating_per_product.rdd.map(lambda row: (row['New_Product_ID'], row['mean_rating_product'] - global_mean_rating)).collectAsMap()"
      ],
      "metadata": {
        "id": "8OqhQ_esxFUk"
      },
      "execution_count": 47,
      "outputs": []
    },
    {
      "cell_type": "markdown",
      "source": [
        "#### Predicting rating for test users for given product based on the training data"
      ],
      "metadata": {
        "id": "zCF8-qTjrzoy"
      }
    },
    {
      "cell_type": "code",
      "source": [
        "def prediction_function(New_User_ID, New_Product_ID):\n",
        "    user_deviation = user_deviations.get(New_User_ID, 0)\n",
        "    product_deviation = product_deviations.get(New_Product_ID, 0)\n",
        "    return global_mean_rating + user_deviation + product_deviation"
      ],
      "metadata": {
        "id": "rL0VkEGed_D0"
      },
      "execution_count": 48,
      "outputs": []
    },
    {
      "cell_type": "markdown",
      "source": [
        "#### Adding a column for the predicted rating of the test data"
      ],
      "metadata": {
        "id": "jA8--RcWuV31"
      }
    },
    {
      "cell_type": "code",
      "source": [
        "from pyspark.sql.functions import udf\n",
        "from pyspark.sql.types import FloatType\n",
        "final_prediction = udf(prediction_function, FloatType())\n",
        "test_df_split = test_df_split.withColumn('Final_predicted_rating', final_prediction('New_User_ID', 'New_Product_ID'))"
      ],
      "metadata": {
        "id": "90g_Jmnmfiw4"
      },
      "execution_count": 52,
      "outputs": []
    },
    {
      "cell_type": "code",
      "source": [
        "test_df_split.show(5)"
      ],
      "metadata": {
        "id": "T1JThG7Wxc7g",
        "colab": {
          "base_uri": "https://localhost:8080/"
        },
        "outputId": "813f428c-2b29-458f-cb95-e12e46656c7f"
      },
      "execution_count": 53,
      "outputs": [
        {
          "output_type": "stream",
          "name": "stdout",
          "text": [
            "+--------------------+----------+------+--------------+-----------+----------------------+\n",
            "|             User_ID|Product_ID|Rating|New_Product_ID|New_User_ID|Final_predicted_rating|\n",
            "+--------------------+----------+------+--------------+-----------+----------------------+\n",
            "|A00009661LC9LQPGK...|B004GWQBWY|     5|        226215|          4|             3.7337663|\n",
            "|A00015228CUPGPF957DS|B00474ORI6|     1|        212397|          9|              2.689655|\n",
            "|A00018041RRVMCICC...|B004EIJXES|     5|        222075|         11|             4.3535557|\n",
            "|A000186437REL8X2R...|B007X26T3A|     4|        327500|         12|              3.857143|\n",
            "|A000187635I595IAV...|B003EO1H7E|     5|        178699|         13|              4.889912|\n",
            "+--------------------+----------+------+--------------+-----------+----------------------+\n",
            "only showing top 5 rows\n",
            "\n"
          ]
        }
      ]
    },
    {
      "cell_type": "markdown",
      "source": [
        "#### Compute the Root Mean Square Error on the test data by comapring the predicted and actual ratings"
      ],
      "metadata": {
        "id": "CkjO9XHKuehO"
      }
    },
    {
      "cell_type": "code",
      "source": [
        "evaluator = RegressionEvaluator(metricName='rmse', labelCol='Rating', predictionCol='Final_predicted_rating')\n",
        "rmse = evaluator.evaluate(test_df_split)\n",
        "print(f'RMSE: {rmse}')"
      ],
      "metadata": {
        "colab": {
          "base_uri": "https://localhost:8080/"
        },
        "id": "lcXGXqkThmNt",
        "outputId": "7837b355-2942-46e9-ca9f-d4d09c491ce3"
      },
      "execution_count": 54,
      "outputs": [
        {
          "output_type": "stream",
          "name": "stdout",
          "text": [
            "RMSE: 1.422104915105256\n"
          ]
        }
      ]
    },
    {
      "cell_type": "markdown",
      "source": [
        "We have got a score RMSE score of 1.422, which is not a good score for our model."
      ],
      "metadata": {
        "id": "IuVnfy3yXzDk"
      }
    },
    {
      "cell_type": "markdown",
      "source": [
        "## **Collaborative Filtering using Alternate least square method**"
      ],
      "metadata": {
        "id": "HUICoysKPF8R"
      }
    },
    {
      "cell_type": "markdown",
      "source": [
        "#### Dividing the Data into Training and Test"
      ],
      "metadata": {
        "id": "sVKhdbAKXb1e"
      }
    },
    {
      "cell_type": "code",
      "source": [
        "(training, test) = amazon_df.randomSplit([0.70, 0.30], seed=97)"
      ],
      "metadata": {
        "id": "9_A9qRnRP3dL"
      },
      "execution_count": 55,
      "outputs": []
    },
    {
      "cell_type": "code",
      "source": [
        "als = ALS(maxIter=8, regParam=0.1, coldStartStrategy=\"drop\", userCol=\"New_User_ID\", itemCol=\"New_Product_ID\", ratingCol=\"Rating\")\n",
        "model = als.fit(training)"
      ],
      "metadata": {
        "id": "bhJBjAq6Uh9O"
      },
      "execution_count": 56,
      "outputs": []
    },
    {
      "cell_type": "markdown",
      "source": [
        "#### Fitting the model on Test Data and generating predictions"
      ],
      "metadata": {
        "id": "YGg2K9k8Xie8"
      }
    },
    {
      "cell_type": "code",
      "source": [
        "als_model = als.fit(test)\n",
        "predicted_rating = als_model.transform(test)\n",
        "predicted_rating.show()"
      ],
      "metadata": {
        "colab": {
          "base_uri": "https://localhost:8080/"
        },
        "id": "Qe0FA6Wld2kw",
        "outputId": "815e35dd-eae4-4f6b-adbb-e2af9ce2987e"
      },
      "execution_count": 57,
      "outputs": [
        {
          "output_type": "stream",
          "name": "stdout",
          "text": [
            "+--------------+----------+------+--------------+-----------+----------+\n",
            "|       User_ID|Product_ID|Rating|New_Product_ID|New_User_ID|prediction|\n",
            "+--------------+----------+------+--------------+-----------+----------+\n",
            "|A1GI0U4ZRJA8WN|0439886341|     1|             3|     511953| 0.9656209|\n",
            "|A2WNBOD3WNDNKT|0439886341|     3|             3|    2118941| 2.8968623|\n",
            "|A1E4WG8HRWWK4R|0528881469|     5|             5|     439076| 4.8160067|\n",
            "|A29LPQQDG7LD5J|0528881469|     1|             5|    1409800| 0.9744198|\n",
            "| AR84FMFYCQCWF|0528881469|     1|             5|    3932068| 0.9744198|\n",
            "|A28B1G1MSJ6OO1|0528881469|     4|             5|    1369550|  3.897679|\n",
            "|A1NQPG5IJ43HJI|0558835155|     3|             6|     735676| 2.9445274|\n",
            "|A2TKKYL3GKFS2M|0594033926|     5|            12|    2024572| 4.8438396|\n",
            "|A3I1C8WM8DLSMM|0594033926|     5|            12|    2778084|  4.937534|\n",
            "| AHYURLVH267MA|0594033926|     5|            12|    3647039|  4.937534|\n",
            "|A29LNVZLBG0IYN|0594033926|     5|            12|    1409762|  4.869882|\n",
            "|A3HGTTFIDLCWDJ|0594033926|     4|            12|    2760671| 3.8748791|\n",
            "|A3T3XKC7H5ACI1|0594033934|     5|            13|    3118376| 4.8869486|\n",
            "|A1HM74IXWXQ5D8|0594296420|     5|            16|     546431| 4.8947163|\n",
            "| A3ZNVCQCG57AY|0594296420|     5|            16|    3215125|  4.928294|\n",
            "|A150Y5KRN7FWJJ|0594451647|     5|            19|     159316| 4.9545803|\n",
            "|A2JXAZZI9PHK9Z|0594451647|     5|            19|    1727981|  4.929047|\n",
            "|A3BY5KCNQZXV5U|0594451647|     5|            19|    2590645| 4.9681706|\n",
            "|A212UCG62RO8JF|0594451647|     5|            19|    1146716| 4.9545803|\n",
            "|A262D8GC5XRU31|0594451647|     5|            19|    1300441| 4.9545803|\n",
            "+--------------+----------+------+--------------+-----------+----------+\n",
            "only showing top 20 rows\n",
            "\n"
          ]
        }
      ]
    },
    {
      "cell_type": "markdown",
      "source": [
        "#### Calculating RMSE and evaluating the model"
      ],
      "metadata": {
        "id": "jq91n1mSXq3O"
      }
    },
    {
      "cell_type": "code",
      "source": [
        "evaluator = RegressionEvaluator(metricName=\"rmse\", labelCol=\"Rating\", predictionCol=\"prediction\")\n",
        "rmse = evaluator.evaluate(predicted_rating)\n",
        "print(\"RMSE:\", rmse)"
      ],
      "metadata": {
        "colab": {
          "base_uri": "https://localhost:8080/"
        },
        "id": "7vY5FT5qi68c",
        "outputId": "39c0c080-436c-4f63-dfd3-c9832da972d4"
      },
      "execution_count": 58,
      "outputs": [
        {
          "output_type": "stream",
          "name": "stdout",
          "text": [
            "RMSE: 0.1966442961699962\n"
          ]
        }
      ]
    },
    {
      "cell_type": "markdown",
      "source": [
        "We have got a score RMSE score of 0.196, which is a good score for our model."
      ],
      "metadata": {
        "id": "NsA3YZLU5bpC"
      }
    },
    {
      "cell_type": "markdown",
      "source": [
        "#### Building a Model on Collaborative filtering using ALS"
      ],
      "metadata": {
        "id": "C1e_56Vn5S-6"
      }
    },
    {
      "cell_type": "code",
      "source": [
        "distinct_user_ID = amazon_df.select('New_User_ID').distinct().rdd.flatMap(lambda x: x)\n",
        "distinct_user_ID.collect()[:10]"
      ],
      "metadata": {
        "colab": {
          "base_uri": "https://localhost:8080/"
        },
        "id": "s1iCoxQiowF_",
        "outputId": "96d52556-edb6-4651-a4c9-93ad939fc8c4"
      },
      "execution_count": 59,
      "outputs": [
        {
          "output_type": "execute_result",
          "data": {
            "text/plain": [
              "[1, 2, 3, 4, 5, 6, 7, 8, 9, 10]"
            ]
          },
          "metadata": {},
          "execution_count": 59
        }
      ]
    },
    {
      "cell_type": "code",
      "source": [
        "distinct_users_df = spark.createDataFrame([(user,) for user in distinct_user_ID.collect()[:500] ], ['New_User_ID'])"
      ],
      "metadata": {
        "id": "EADikFDtdTHy"
      },
      "execution_count": 60,
      "outputs": []
    },
    {
      "cell_type": "code",
      "source": [
        "new_recommended_users = als_model.recommendForUserSubset(distinct_users_df, 2)"
      ],
      "metadata": {
        "id": "YVckjDLid7-l"
      },
      "execution_count": 61,
      "outputs": []
    },
    {
      "cell_type": "markdown",
      "source": [
        "#### Recommending two new products for users"
      ],
      "metadata": {
        "id": "2CHunKI5X7_G"
      }
    },
    {
      "cell_type": "code",
      "source": [
        "from pyspark.sql.functions import col, expr\n",
        "recommedation_result = new_recommended_users.select(col(\"New_User_ID\"), expr(\"transform(recommendations, x -> x.New_Product_ID) as New_Product_ID\"))\n",
        "\n",
        "\n",
        "recommedation_result.show(truncate=False)\n"
      ],
      "metadata": {
        "id": "uiP6ZArNeJIR",
        "colab": {
          "base_uri": "https://localhost:8080/"
        },
        "outputId": "c8c18c4f-d486-48be-986a-1ee7730b4fa3"
      },
      "execution_count": 62,
      "outputs": [
        {
          "output_type": "stream",
          "name": "stdout",
          "text": [
            "+-----------+----------------+\n",
            "|New_User_ID|New_Product_ID  |\n",
            "+-----------+----------------+\n",
            "|4          |[298989, 236556]|\n",
            "|9          |[315113, 337359]|\n",
            "|11         |[324323, 319345]|\n",
            "|12         |[101953, 469658]|\n",
            "|13         |[327851, 251577]|\n",
            "|15         |[76573, 331093] |\n",
            "|17         |[398358, 91992] |\n",
            "|23         |[214020, 462020]|\n",
            "|24         |[402597, 363908]|\n",
            "|25         |[327851, 129981]|\n",
            "|26         |[50902, 2140]   |\n",
            "|28         |[217943, 26022] |\n",
            "|29         |[129580, 15264] |\n",
            "|32         |[112385, 207018]|\n",
            "|33         |[62398, 41116]  |\n",
            "|35         |[220718, 36956] |\n",
            "|36         |[318669, 70587] |\n",
            "|38         |[402597, 132526]|\n",
            "|39         |[349622, 221548]|\n",
            "|41         |[129580, 15264] |\n",
            "+-----------+----------------+\n",
            "only showing top 20 rows\n",
            "\n"
          ]
        }
      ]
    }
  ]
}